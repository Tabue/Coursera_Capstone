{
    "cells": [
        {
            "cell_type": "markdown",
            "metadata": {},
            "source": "# Introduction"
        },
        {
            "cell_type": "markdown",
            "metadata": {},
            "source": "Moscow and NYC are among the biggest capitals in the world. Moscow has area of 2511 sq. kms.while NYC has 784. \nThey're both densely populated cosmopolitan metropolises (In 2012 Moscow population was almost 12 mln, NYC 8.4 mln) , but they also have their differences. Assume that we've been asked to find the better city for launching a new branch fitness clubs. We have conducted an experiment where we compare the two cities in terms of their public venues, including coffee shops, cafes, restaurants, and etc to get a good meausre of each city's residents towards their choices of venue. "
        },
        {
            "cell_type": "markdown",
            "metadata": {},
            "source": "# Business"
        },
        {
            "cell_type": "markdown",
            "metadata": {},
            "source": "As mentioned above, sport has a certain degree of importance for nowadays people. Moreover, people globally more and more tend to follow healthy lifestyle and become more aware of their state. Therefore we will model a situation in which we have decided to open  a new fitness center full of areas for different kind os sports, spa-facilitities and etc."
        },
        {
            "cell_type": "markdown",
            "metadata": {},
            "source": "# Target audience"
        },
        {
            "cell_type": "markdown",
            "metadata": {},
            "source": "A target audience are those of 12 mln people in Moscow or 8.4 mln in NYC who keen on sport"
        },
        {
            "cell_type": "markdown",
            "metadata": {},
            "source": "# Problem"
        },
        {
            "cell_type": "markdown",
            "metadata": {},
            "source": "With python and its tools we can ultimetely find top venues in the cities, so the choice of residents will tell us where sport clubs are more in demand"
        },
        {
            "cell_type": "markdown",
            "metadata": {},
            "source": "# Data"
        },
        {
            "cell_type": "markdown",
            "metadata": {},
            "source": "1.Moscow neighbourhoods could be scrapped at wiki"
        },
        {
            "cell_type": "markdown",
            "metadata": {},
            "source": "2.NYC neighbourhoods will be downloaded from file, that was in previous labs, dedicated to NYC clustering\n"
        },
        {
            "cell_type": "markdown",
            "metadata": {},
            "source": "3.Coordinates will be gathered via geolocator library"
        },
        {
            "cell_type": "markdown",
            "metadata": {},
            "source": "# Methodology"
        },
        {
            "cell_type": "markdown",
            "metadata": {},
            "source": "1) Beatifulsoup(requests etc.) - this pack will be mainly used to get a list of Moscow neighbourshoods from wiki webpage"
        },
        {
            "cell_type": "markdown",
            "metadata": {},
            "source": "2)Pandas- main tool for table formatting and data wrangling, because there will lots of cases when we will has to format our data tables (clean, prepare for ML. etc.)"
        },
        {
            "cell_type": "markdown",
            "metadata": {},
            "source": "3)geocoding+folium - the first one will allow us to get coordinated with the location address, the second allow to p"
        },
        {
            "cell_type": "markdown",
            "metadata": {},
            "source": "4) machine learning alorithms - clustering"
        },
        {
            "cell_type": "markdown",
            "metadata": {},
            "source": "5)Other (during project implementation may emerge certain needs that require certain solutions, e.g. parcing)"
        },
        {
            "cell_type": "code",
            "execution_count": null,
            "metadata": {},
            "outputs": [],
            "source": ""
        }
    ],
    "metadata": {
        "kernelspec": {
            "display_name": "Python 3.6",
            "language": "python",
            "name": "python3"
        },
        "language_info": {
            "codemirror_mode": {
                "name": "ipython",
                "version": 3
            },
            "file_extension": ".py",
            "mimetype": "text/x-python",
            "name": "python",
            "nbconvert_exporter": "python",
            "pygments_lexer": "ipython3",
            "version": "3.6.9"
        }
    },
    "nbformat": 4,
    "nbformat_minor": 1
}