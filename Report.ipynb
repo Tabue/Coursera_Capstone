{
    "cells": [
        {
            "cell_type": "markdown",
            "metadata": {},
            "source": "# Introduction"
        },
        {
            "cell_type": "markdown",
            "metadata": {},
            "source": "Canada is widely known as a sports-loving country. Canadian people always like to do some physical activity to avoid obesity and most importantly, to cope with the cold environment. Canada is a generous country where people all of the world are settled in here and share their own sports and culture with the native Canadians. Thus Canada has become a country of variety of games and sports. The country have also showed their dominance in world sports as well as in Olympic games."
        },
        {
            "cell_type": "markdown",
            "metadata": {},
            "source": "# Business"
        },
        {
            "cell_type": "markdown",
            "metadata": {},
            "source": "As mentioned above, sport has a certain degree of importance for canadian people. Moreover, people globally more and more tend to follow healthy lifestyle and become more aware of their state. Therefore we will model a situation in which we have decided to open  a new fitness center full of areas for different kind os sports, spa-facilitities and etc."
        },
        {
            "cell_type": "markdown",
            "metadata": {},
            "source": "# Target audience"
        },
        {
            "cell_type": "markdown",
            "metadata": {},
            "source": "A target city will be Torronto. For 2016 the population of torronto was approximately 2 700 000 people, among which 1 900 000 fall into 15-64 years age category (source:Wiki). Since for such type of business people(clients) are the main source of income, we may assume that 1.9 mln is the size of market available."
        },
        {
            "cell_type": "markdown",
            "metadata": {},
            "source": "# Problem"
        },
        {
            "cell_type": "markdown",
            "metadata": {},
            "source": "Certainly, this amount of people (1,9mln) is naturally spread among neibourhoods in torronto, so one could be overdenst, another vice verse. Of course we do not need all 1,9mln people, it is impossible, due to the fact that modern fitness facilitites have capacity ranging from 150 to 500 persons(sure taking into consideration the size of facility). Therefore we should find the best place in torronto for our fitness center. I believe that this place should meet next criteria:"
        },
        {
            "cell_type": "markdown",
            "metadata": {},
            "source": "1)the district with the smallest number of other sport facilities (competitors)2)district balanced between ghosttown and overdenst\n3)I believe distance "
        },
        {
            "cell_type": "markdown",
            "metadata": {},
            "source": "# Data"
        },
        {
            "cell_type": "markdown",
            "metadata": {},
            "source": "1)Postocode for neighbourhoods clustering"
        },
        {
            "cell_type": "markdown",
            "metadata": {},
            "source": "2)Population structure among neighbourhoods for better understanding of audience available (open-source)"
        },
        {
            "cell_type": "markdown",
            "metadata": {},
            "source": "# Methodology"
        },
        {
            "cell_type": "markdown",
            "metadata": {},
            "source": "1) pandas - data wrangling"
        },
        {
            "cell_type": "markdown",
            "metadata": {},
            "source": "2) Foursquare api - obtaining all fitness centers"
        },
        {
            "cell_type": "markdown",
            "metadata": {},
            "source": "3)geocoding+folium - mapping for better understanding"
        },
        {
            "cell_type": "markdown",
            "metadata": {},
            "source": "4) machine learning alorithms - clustering"
        },
        {
            "cell_type": "markdown",
            "metadata": {},
            "source": "5)Other (during project implementation may emerge certain needs that require certain solutions, e.g. parcing)"
        },
        {
            "cell_type": "code",
            "execution_count": null,
            "metadata": {},
            "outputs": [],
            "source": ""
        }
    ],
    "metadata": {
        "kernelspec": {
            "display_name": "Python 3.6",
            "language": "python",
            "name": "python3"
        },
        "language_info": {
            "codemirror_mode": {
                "name": "ipython",
                "version": 3
            },
            "file_extension": ".py",
            "mimetype": "text/x-python",
            "name": "python",
            "nbconvert_exporter": "python",
            "pygments_lexer": "ipython3",
            "version": "3.6.9"
        }
    },
    "nbformat": 4,
    "nbformat_minor": 1
}